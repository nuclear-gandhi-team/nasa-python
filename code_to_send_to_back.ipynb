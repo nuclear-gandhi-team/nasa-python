{
  "nbformat": 4,
  "nbformat_minor": 0,
  "metadata": {
    "colab": {
      "provenance": []
    },
    "kernelspec": {
      "name": "python3",
      "display_name": "Python 3"
    },
    "language_info": {
      "name": "python"
    }
  },
  "cells": [
    {
      "cell_type": "code",
      "source": [
        "from google.colab import drive\n",
        "drive.mount('/content/drive')"
      ],
      "metadata": {
        "colab": {
          "base_uri": "https://localhost:8080/"
        },
        "id": "i9Hl4el2aOrD",
        "outputId": "3d0d6cb5-8d1c-4cf5-d299-47e3025e7ec1"
      },
      "execution_count": null,
      "outputs": [
        {
          "output_type": "stream",
          "name": "stdout",
          "text": [
            "Mounted at /content/drive\n"
          ]
        }
      ]
    },
    {
      "cell_type": "code",
      "execution_count": null,
      "metadata": {
        "id": "sqPiQxr6T0J5"
      },
      "outputs": [],
      "source": [
        "import requests\n",
        "import pandas as pd\n",
        "import pickle\n",
        "from datetime import datetime, timedelta\n",
        "\n",
        "request_file_path = ''\n",
        "folder_path = '/content/drive/MyDrive/wildfire_forecast'\n",
        "file_path = f'{folder_path}/rf_model.pkl'\n",
        "\n",
        "\n",
        "\n",
        "def get_weather_df(\n",
        "    latitude=0,\n",
        "    longitude=0,\n",
        "    timestamp=\"0000-00-00T00:00\",\n",
        "):\n",
        "    current_time = datetime.now()\n",
        "    provided_time = datetime.fromisoformat(timestamp)\n",
        "\n",
        "    if provided_time >= current_time:\n",
        "        base_url = \"https://api.open-meteo.com/v1/forecast\"\n",
        "    else:\n",
        "        base_url = \"https://archive-api.open-meteo.com/v1/archive\"\n",
        "\n",
        "    measurements = [\n",
        "        'temperature_2m',\n",
        "        'pressure_msl',\n",
        "        'surface_pressure',\n",
        "        'windspeed_10m',\n",
        "        'winddirection_10m',\n",
        "        'winddirection_100m',\n",
        "        'windgusts_10m',\n",
        "        'soil_temperature_7_to_28cm',\n",
        "        'soil_temperature_28_to_100cm',\n",
        "        'soil_moisture_0_to_7cm',\n",
        "        'soil_moisture_7_to_28cm',\n",
        "        'soil_moisture_28_to_100cm'\n",
        "    ]\n",
        "\n",
        "    params = {\n",
        "        \"latitude\": latitude,\n",
        "        \"longitude\": longitude,\n",
        "        \"start_date\": timestamp.split('T')[0],\n",
        "        \"end_date\": timestamp.split('T')[0],\n",
        "        \"hourly\": ','.join(measurements)\n",
        "    }\n",
        "\n",
        "    response = requests.get(base_url, params=params)\n",
        "\n",
        "    # Check if request was successful\n",
        "    if response.status_code != 200:\n",
        "        print(response)\n",
        "        return pd.DataFrame(columns=['time'] + measurements)\n",
        "\n",
        "    data = response.json()\n",
        "\n",
        "    df = pd.DataFrame(data['hourly'])\n",
        "\n",
        "    timestamp = datetime.fromisoformat(timestamp)\n",
        "    timestamp = datetime(timestamp.year, timestamp.month, timestamp.day, timestamp.hour) + timedelta(hours=round(timestamp.minute/60))\n",
        "    timestamp = timestamp.isoformat()[:-3]\n",
        "\n",
        "    selected_row = df[df['time'] == timestamp]\n",
        "    selected_row['latitude'] = latitude\n",
        "    selected_row['longitude'] = longitude\n",
        "\n",
        "    return selected_row\n",
        "\n",
        "\n",
        "dataframes = []\n",
        "with open(file_path, 'r') as file:\n",
        "    for line in file:\n",
        "        row_values = line.strip().split(';')\n",
        "dataframes.append(row_values[0], row_values[1])\n",
        "\n",
        "data = pd.concat(dataframes, axis=0)\n",
        "\n",
        "\n",
        "\n",
        "\n",
        "def prepare_data(data):\n",
        "  df_numeric = data.select_dtypes(include=['float64', 'int64'])\n",
        "\n",
        "  df_numeric_no_duplicates = df_numeric.drop_duplicates()\n",
        "\n",
        "  df_numeric_no_duplicates_no_nan = df_numeric_no_duplicates.fillna(0)\n",
        "  df_numeric_no_duplicates_no_nan.shape\n",
        "\n",
        "  lat_long = ['latitude', 'longitude']\n",
        "  params_for_results =  data[lat_long]\n",
        "\n",
        "  needed_features = [\n",
        "    'temperature_2m',\n",
        "  'pressure_msl',\n",
        "  'surface_pressure',\n",
        "  'windspeed_10m',\n",
        "  'winddirection_10m',\n",
        "  'winddirection_100m',\n",
        "  'windgusts_10m',\n",
        "  ]\n",
        "\n",
        "  x = data[needed_features]\n",
        "\n",
        "  return x, params_for_results\n",
        "\n",
        "  return x, params_for_results\n",
        "x, params_for_results = prepare_data(data)\n",
        "\n",
        "\n",
        "with open(file_path, 'rb') as file:\n",
        "    loaded_model = pickle.load(file)\n",
        "\n",
        "results = loaded_model.predict(x)\n",
        "prediction_series = pd.Series(results, name='prediction')\n",
        "\n",
        "result_dataset = pd.concat([params_for_results, prediction_series], axis=1)\n",
        "print(result_dataset)"
      ]
    },
    {
      "cell_type": "code",
      "source": [],
      "metadata": {
        "id": "WBlNzc0Bd1eb"
      },
      "execution_count": null,
      "outputs": []
    }
  ]
}